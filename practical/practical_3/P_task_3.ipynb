{
 "cells": [
  {
   "cell_type": "code",
   "execution_count": 7,
   "metadata": {},
   "outputs": [],
   "source": [
    "import numpy as np\n",
    "from scipy.linalg import *"
   ]
  },
  {
   "cell_type": "code",
   "execution_count": 2,
   "metadata": {},
   "outputs": [],
   "source": [
    "a = 28 # α \n",
    "b = 7 # β\n",
    "g = 3 # γ\n",
    "t = 1 # θ\n",
    "m = 1 # μ\n",
    "v = 3 # ν"
   ]
  },
  {
   "cell_type": "code",
   "execution_count": 3,
   "metadata": {},
   "outputs": [
    {
     "data": {
      "text/plain": [
       "matrix([[-116, 4124, 1147],\n",
       "        [  84,  765,  135],\n",
       "        [   0, 1461,  202]])"
      ]
     },
     "execution_count": 3,
     "metadata": {},
     "output_type": "execute_result"
    }
   ],
   "source": [
    "# 1\n",
    "# Решение:\n",
    "A = np.matrix([[2, 3 + a, 4 - m],\n",
    "               [b, g, v],\n",
    "               [5, 10 * m, -2]])\n",
    "B = np.matrix([[b, -3, 4 + m],\n",
    "               [a, 4, v],\n",
    "               [5 * m, 10, -2]])\n",
    "C = np.matrix([[-1, 3 + m, 4 - v],\n",
    "               [2, 1, v],\n",
    "               [5, 5 - m, -2]])\n",
    "\n",
    "A * B * C"
   ]
  },
  {
   "cell_type": "code",
   "execution_count": 6,
   "metadata": {},
   "outputs": [
    {
     "name": "stdout",
     "output_type": "stream",
     "text": [
      "EigResult(eigenvalues=array([ 25.5269861 , -16.71501716,  -4.8064692 ,  10.99450026]), eigenvectors=matrix([[-0.76006434, -0.76548408,  0.85583491,  0.74714212],\n",
      "        [-0.4652843 ,  0.50464083, -0.06726738,  0.33328435],\n",
      "        [-0.35935452,  0.1699277 , -0.16547024, -0.55865635],\n",
      "        [-0.27690622, -0.36124276, -0.48542899, -0.13639384]]))\n",
      "22548.0\n",
      "[[-0.08674827  0.19744545 -0.18041511  0.24800426]\n",
      " [ 0.025102    0.00319319 -0.02448111  0.02332801]\n",
      " [ 0.02456981 -0.05694518  0.10324641 -0.05490509]\n",
      " [ 0.04541423 -0.03485897  0.10058542 -0.1574419 ]]\n"
     ]
    }
   ],
   "source": [
    "# 2\n",
    "# Решение:\n",
    "G = np.matrix([[2, 3 + a, 4 + m, 6],\n",
    "               [b + 1, g, v, 12],\n",
    "               [5, -2, 16, m + 1], \n",
    "               [2, 7, 11, -6]])\n",
    "print(np.linalg.eig(G), np.linalg.det(G), np.linalg.inv(G) , sep = '\\n' ) "
   ]
  },
  {
   "cell_type": "code",
   "execution_count": 9,
   "metadata": {},
   "outputs": [
    {
     "name": "stdout",
     "output_type": "stream",
     "text": [
      "B = [[-3.  4.  1.]\n",
      " [ 8. 12. -4.]\n",
      " [ 3.  5.  8.]]\n"
     ]
    }
   ],
   "source": [
    "# 3\n",
    "# Решение:\n",
    "A = np.matrix([[2, -5, 7],\n",
    "               [8, 1, 9],\n",
    "               [3, -4, 12]])\n",
    "C = np.matrix([[-25, -17, 78],\n",
    "               [11, 89, 76],\n",
    "               [-5, 24, 115]])\n",
    "\n",
    "print(f'B = {np.linalg.solve(A, C)}')"
   ]
  },
  {
   "cell_type": "code",
   "execution_count": 11,
   "metadata": {},
   "outputs": [
    {
     "data": {
      "text/plain": [
       "array([[-12.60474308],\n",
       "       [ 33.34782609],\n",
       "       [  5.79841897],\n",
       "       [  8.88932806]])"
      ]
     },
     "execution_count": 11,
     "metadata": {},
     "output_type": "execute_result"
    }
   ],
   "source": [
    "# 4 \n",
    "# Решение\n",
    "A = np.matrix([[3, 1, 1, g],\n",
    "               [1, -m, v, 4],\n",
    "               [-5, 0, -1, -7], \n",
    "               [1, -6, a, 6]])\n",
    "f = np.array([a, b, -5, 3]).reshape(4, 1)\n",
    "\n",
    "x = solve(A, f)\n",
    "x"
   ]
  }
 ],
 "metadata": {
  "kernelspec": {
   "display_name": "Python 3",
   "language": "python",
   "name": "python3"
  },
  "language_info": {
   "codemirror_mode": {
    "name": "ipython",
    "version": 3
   },
   "file_extension": ".py",
   "mimetype": "text/x-python",
   "name": "python",
   "nbconvert_exporter": "python",
   "pygments_lexer": "ipython3",
   "version": "3.11.6"
  }
 },
 "nbformat": 4,
 "nbformat_minor": 2
}
