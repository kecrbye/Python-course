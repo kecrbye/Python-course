{
 "cells": [
  {
   "cell_type": "markdown",
   "metadata": {},
   "source": [
    "# Самостоятельная работа 2. Numpy\n",
    "\n",
    "1. Скачайте этот ноутбук к себе.\n",
    "2. Заполните пропущенные ячейки, отвечая на заданные вопросы. Там должен быть код! (если не сказано обратное)\n",
    "3. Сохраните результат в своём гитхаб репозитории.\n",
    "\n",
    "#### Полезная литература\n",
    "\n",
    "- http://www.numpy.org/\n",
    "- https://jakevdp.github.io/PythonDataScienceHandbook/02.00-introduction-to-numpy.html\n",
    "- https://docs.scipy.org/doc/numpy/user/quickstart.html"
   ]
  },
  {
   "cell_type": "markdown",
   "metadata": {},
   "source": [
    "1) Импортировать numpy и написать версию"
   ]
  },
  {
   "cell_type": "code",
   "execution_count": 27,
   "metadata": {},
   "outputs": [
    {
     "data": {
      "text/plain": [
       "'1.26.0'"
      ]
     },
     "execution_count": 27,
     "metadata": {},
     "output_type": "execute_result"
    }
   ],
   "source": [
    "import numpy as np\n",
    "np.__version__"
   ]
  },
  {
   "cell_type": "markdown",
   "metadata": {},
   "source": [
    "2) Создать нулевой вектор размера 10"
   ]
  },
  {
   "cell_type": "code",
   "execution_count": 28,
   "metadata": {},
   "outputs": [
    {
     "data": {
      "text/plain": [
       "array([0., 0., 0., 0., 0., 0., 0., 0., 0., 0.])"
      ]
     },
     "execution_count": 28,
     "metadata": {},
     "output_type": "execute_result"
    }
   ],
   "source": [
    "zero_vector = np.zeros(10)\n",
    "zero_vector"
   ]
  },
  {
   "cell_type": "markdown",
   "metadata": {},
   "source": [
    "3) Создать вектор заполненный 7-ами размера 7"
   ]
  },
  {
   "cell_type": "code",
   "execution_count": 32,
   "metadata": {},
   "outputs": [
    {
     "data": {
      "text/plain": [
       "array([7, 7, 7, 7, 7, 7, 7])"
      ]
     },
     "execution_count": 32,
     "metadata": {},
     "output_type": "execute_result"
    }
   ],
   "source": [
    "seven_seven_vector = np.full(7, 7)\n",
    "seven_seven_vector"
   ]
  },
  {
   "cell_type": "markdown",
   "metadata": {},
   "source": [
    "4) Создать вектор заполненный четными числами от 10 до 100"
   ]
  },
  {
   "cell_type": "code",
   "execution_count": 30,
   "metadata": {},
   "outputs": [
    {
     "data": {
      "text/plain": [
       "array([ 10,  12,  14,  16,  18,  20,  22,  24,  26,  28,  30,  32,  34,\n",
       "        36,  38,  40,  42,  44,  46,  48,  50,  52,  54,  56,  58,  60,\n",
       "        62,  64,  66,  68,  70,  72,  74,  76,  78,  80,  82,  84,  86,\n",
       "        88,  90,  92,  94,  96,  98, 100])"
      ]
     },
     "execution_count": 30,
     "metadata": {},
     "output_type": "execute_result"
    }
   ],
   "source": [
    "even_vector = np.arange(10, 101, 2)\n",
    "even_vector"
   ]
  },
  {
   "cell_type": "markdown",
   "metadata": {},
   "source": [
    "5) Создать массив случайных чисел и развернуть его задом наперёд"
   ]
  },
  {
   "cell_type": "code",
   "execution_count": 58,
   "metadata": {},
   "outputs": [
    {
     "data": {
      "text/plain": [
       "array([-0.79868855,  0.39557108, -0.45478349, -0.61751636,  0.82239132,\n",
       "        0.59042458, -0.25890615, -0.21703108,  0.39669106, -0.0793457 ])"
      ]
     },
     "execution_count": 58,
     "metadata": {},
     "output_type": "execute_result"
    }
   ],
   "source": [
    "rand_array = np.random.randn(10)\n",
    "rand_array"
   ]
  },
  {
   "cell_type": "code",
   "execution_count": 59,
   "metadata": {},
   "outputs": [
    {
     "data": {
      "text/plain": [
       "array([-0.0793457 ,  0.39669106, -0.21703108, -0.25890615,  0.59042458,\n",
       "        0.82239132, -0.61751636, -0.45478349,  0.39557108, -0.79868855])"
      ]
     },
     "execution_count": 59,
     "metadata": {},
     "output_type": "execute_result"
    }
   ],
   "source": [
    "rand_array[::-1]"
   ]
  },
  {
   "cell_type": "markdown",
   "metadata": {},
   "source": [
    "6) Создать двумерную матрицу размера 3 на 3, заполненную числами от 0 до 9"
   ]
  },
  {
   "cell_type": "code",
   "execution_count": 41,
   "metadata": {},
   "outputs": [
    {
     "data": {
      "text/plain": [
       "array([[0, 1, 2],\n",
       "       [3, 4, 5],\n",
       "       [6, 7, 8]])"
      ]
     },
     "execution_count": 41,
     "metadata": {},
     "output_type": "execute_result"
    }
   ],
   "source": [
    "digits_matrix = np.arange(0, 9).reshape((3,3))\n",
    "digits_matrix"
   ]
  },
  {
   "cell_type": "markdown",
   "metadata": {},
   "source": [
    "7) Создать матрицу размера 4 на 4 с единицами на диагонали смещеной на один наверх."
   ]
  },
  {
   "cell_type": "code",
   "execution_count": 44,
   "metadata": {},
   "outputs": [
    {
     "data": {
      "text/plain": [
       "array([[0., 1., 0., 0.],\n",
       "       [0., 0., 1., 0.],\n",
       "       [0., 0., 0., 1.],\n",
       "       [0., 0., 0., 0.]])"
      ]
     },
     "execution_count": 44,
     "metadata": {},
     "output_type": "execute_result"
    }
   ],
   "source": [
    "diag_matrix = np.eye(4, k = 1)\n",
    "diag_matrix"
   ]
  },
  {
   "cell_type": "markdown",
   "metadata": {},
   "source": [
    "8) Создать матрицу с числами в диапазоне от 1 до 4 по диагонали. В других ячейках матрицы должны быть семерки."
   ]
  },
  {
   "cell_type": "code",
   "execution_count": 47,
   "metadata": {},
   "outputs": [
    {
     "data": {
      "text/plain": [
       "array([[1, 7, 7, 7],\n",
       "       [7, 2, 7, 7],\n",
       "       [7, 7, 3, 7],\n",
       "       [7, 7, 7, 4]])"
      ]
     },
     "execution_count": 47,
     "metadata": {},
     "output_type": "execute_result"
    }
   ],
   "source": [
    "seven_diag_matrix = np.full((4, 4), 7)\n",
    "for i in range(4):\n",
    "    seven_diag_matrix[i, i] = i + 1\n",
    "seven_diag_matrix   "
   ]
  },
  {
   "cell_type": "markdown",
   "metadata": {},
   "source": [
    "9) Создать матрицу размера 5 на 5 заполненную числами от 0 до 4 в строках."
   ]
  },
  {
   "cell_type": "code",
   "execution_count": 50,
   "metadata": {},
   "outputs": [
    {
     "data": {
      "text/plain": [
       "array([[0., 1., 2., 3., 4.],\n",
       "       [0., 1., 2., 3., 4.],\n",
       "       [0., 1., 2., 3., 4.],\n",
       "       [0., 1., 2., 3., 4.],\n",
       "       [0., 1., 2., 3., 4.]])"
      ]
     },
     "execution_count": 50,
     "metadata": {},
     "output_type": "execute_result"
    }
   ],
   "source": [
    "five_five_matrix = np.zeros((5, 5))\n",
    "for i in range(5):\n",
    "    five_five_matrix[i] = np.arange(5)\n",
    "five_five_matrix"
   ]
  },
  {
   "cell_type": "markdown",
   "metadata": {},
   "source": [
    "10) Создать матрицу случайных чисел размера 10 на 10 и отнять среднее по строкам из каждого элемента строки"
   ]
  },
  {
   "cell_type": "code",
   "execution_count": 77,
   "metadata": {},
   "outputs": [
    {
     "data": {
      "text/plain": [
       "array([[-0.01295057,  0.24836739,  0.3884347 , -0.38987397,  0.32035311,\n",
       "        -0.45393362, -0.1679352 ,  0.32057482, -0.25367965,  0.00064298],\n",
       "       [ 0.53284942, -0.22599436, -0.18874003,  0.17217392,  0.34730543,\n",
       "        -0.00538211, -0.35193836,  0.27297839, -0.24426368, -0.30898861],\n",
       "       [ 0.20075341, -0.00925789,  0.02251002, -0.12640565,  0.12230108,\n",
       "        -0.5035086 ,  0.18670037, -0.08723871,  0.21891818, -0.0247722 ],\n",
       "       [-0.37980343, -0.17263893,  0.32973989,  0.03894345, -0.50118591,\n",
       "         0.31019847, -0.18032587,  0.03040778,  0.24166995,  0.28299461],\n",
       "       [-0.18281864,  0.35778967, -0.23828526,  0.20354701,  0.01842155,\n",
       "        -0.16843903,  0.19671088, -0.29641414, -0.39862278,  0.50811073],\n",
       "       [ 0.25671832, -0.04256815,  0.10980935,  0.02225307, -0.27269563,\n",
       "         0.32118088, -0.39955457, -0.39493215,  0.14875675,  0.25103213],\n",
       "       [-0.32419861,  0.26719373, -0.25949472,  0.065836  ,  0.2986678 ,\n",
       "         0.12222293,  0.13077615, -0.47627086,  0.41829257, -0.24302499],\n",
       "       [ 0.04164183, -0.36805007, -0.22632368, -0.27154247,  0.157952  ,\n",
       "         0.26338041,  0.29558644,  0.12359315, -0.01224414, -0.00399348],\n",
       "       [-0.26401994, -0.40911532,  0.36737109, -0.01926617,  0.31542981,\n",
       "         0.3806267 , -0.09325529, -0.05945813, -0.41422943,  0.19591669],\n",
       "       [ 0.30802882,  0.2530661 , -0.14349148,  0.02475985, -0.56846323,\n",
       "        -0.5347817 ,  0.12238357, -0.09440348,  0.30774017,  0.32516138]])"
      ]
     },
     "execution_count": 77,
     "metadata": {},
     "output_type": "execute_result"
    }
   ],
   "source": [
    "rand_matrix = np.random.random_sample((10, 10))\n",
    "means = np.mean(rand_matrix, axis = 1)\n",
    "rand_matrix -= means.reshape(-1, 1)\n",
    "rand_matrix"
   ]
  },
  {
   "cell_type": "markdown",
   "metadata": {},
   "source": [
    "11) Создать матрицу случайных чисел размера 10 на 10 и отнять медиану по столбцам из каждого элемента столбца  "
   ]
  },
  {
   "cell_type": "code",
   "execution_count": 66,
   "metadata": {},
   "outputs": [
    {
     "data": {
      "text/plain": [
       "array([[ 0.21652592, -0.50151859,  0.00555481,  0.04104353,  0.2815258 ,\n",
       "         0.36283162,  0.33555343, -0.6076663 ,  0.30917492, -0.37346172],\n",
       "       [-0.06954225, -0.16842575,  0.12162019, -0.4211657 , -0.22206505,\n",
       "         0.46700549, -0.25885326,  0.0623989 ,  0.10278237, -0.27045558],\n",
       "       [ 0.43051812,  0.16842575,  0.34644009, -0.18007146,  0.34333143,\n",
       "        -0.25804411, -0.01628672,  0.15824134, -0.33965623,  0.54894636],\n",
       "       [ 0.24366589, -0.55637639,  0.21513485, -0.03680523,  0.06544694,\n",
       "        -0.24021197,  0.01628672,  0.1520935 , -0.04357597,  0.36378296],\n",
       "       [-0.36159245,  0.21671159, -0.00555481, -0.43612725, -0.17068629,\n",
       "         0.18080005,  0.32777456,  0.19403716, -0.25748062, -0.10214019],\n",
       "       [-0.0052706 ,  0.36778955, -0.27937872,  0.3006746 , -0.06544694,\n",
       "         0.30250571, -0.29880071, -0.24403984,  0.4200568 ,  0.31149387],\n",
       "       [-0.04502193,  0.18620807,  0.41046595, -0.17294156, -0.21933607,\n",
       "         0.46407001, -0.05376183,  0.27932168,  0.13424042,  0.4595275 ],\n",
       "       [ 0.51133534,  0.32986478, -0.30211064,  0.03680523, -0.31178817,\n",
       "        -0.18080005,  0.30073284, -0.62407036,  0.04357597, -0.28614906],\n",
       "       [-0.24322336, -0.48895179, -0.13086268,  0.41950237,  0.35620409,\n",
       "        -0.34017236, -0.04260911, -0.0623989 , -0.44632157,  0.10214019],\n",
       "       [ 0.0052706 , -0.36293378, -0.14270685,  0.55507509,  0.35947748,\n",
       "        -0.36123592,  0.1948724 , -0.31507892, -0.52479297, -0.34026644]])"
      ]
     },
     "execution_count": 66,
     "metadata": {},
     "output_type": "execute_result"
    }
   ],
   "source": [
    "rand_matrix_2 = np.random.random_sample((10, 10))\n",
    "medians = np.median(rand_matrix_2, axis = 0)\n",
    "rand_matrix_2 -= medians\n",
    "rand_matrix_2"
   ]
  },
  {
   "cell_type": "markdown",
   "metadata": {},
   "source": [
    "12) Создать матрицу случайных чисел 5x5. Добавить к ней столбецы максимумов и минимумов по строкам. Получится матрица 5x7.  "
   ]
  },
  {
   "cell_type": "code",
   "execution_count": 79,
   "metadata": {},
   "outputs": [
    {
     "data": {
      "text/plain": [
       "(5, 7)"
      ]
     },
     "execution_count": 79,
     "metadata": {},
     "output_type": "execute_result"
    }
   ],
   "source": [
    "rand_matrix_3 = np.random.random_sample((5, 5))\n",
    "max_matrix = np.max(rand_matrix_3, axis = 1).reshape(5, 1)\n",
    "min_matrix = np.min(rand_matrix_3, axis = 1).reshape(5, 1)\n",
    "result = np.hstack((rand_matrix_3, max_matrix, min_matrix))\n",
    "result.shape\n"
   ]
  },
  {
   "cell_type": "markdown",
   "metadata": {},
   "source": [
    "13) Вектор чисел от 1 до 51 преобразовать в вектор нечетных чисел и в вектор четных чисел, поменять их размерности, чтобы получились две матрица. Найти произведение этих матриц. Найти обратную матрицу эётого произведения.  "
   ]
  },
  {
   "cell_type": "code",
   "execution_count": 105,
   "metadata": {},
   "outputs": [
    {
     "name": "stdout",
     "output_type": "stream",
     "text": [
      "[[ 830  890  950 1010 1070]\n",
      " [1880 2040 2200 2360 2520]\n",
      " [2930 3190 3450 3710 3970]\n",
      " [3980 4340 4700 5060 5420]\n",
      " [5030 5490 5950 6410 6870]]\n",
      "0.0\n"
     ]
    }
   ],
   "source": [
    "numbers = np.arange(1, 51)\n",
    "even_numbers = numbers[numbers % 2 == 0].reshape(5, 5)\n",
    "odd_numbers = numbers[numbers % 2 != 0].reshape(5, 5)\n",
    "mult_matrix = even_numbers.dot(odd_numbers)\n",
    "print(mult_matrix)\n",
    "# опеделитель данной матрицы равен 0, поэтому обратной матрицы не существует\n",
    "# mult_matrix_inv = np.linalg.inv(mult_matrix)\n",
    "print(np.linalg.det(mult_matrix))\n",
    "#print(mult_matrix_inv)"
   ]
  },
  {
   "cell_type": "markdown",
   "metadata": {},
   "source": [
    "14) Создать 8x8 матрицу и заполнить её в шахматном порядке нулями и единицами. "
   ]
  },
  {
   "cell_type": "code",
   "execution_count": 147,
   "metadata": {},
   "outputs": [
    {
     "data": {
      "text/plain": [
       "array([[1, 0, 1, 0, 1, 0, 1, 0],\n",
       "       [0, 1, 0, 1, 0, 1, 0, 1],\n",
       "       [1, 0, 1, 0, 1, 0, 1, 0],\n",
       "       [0, 1, 0, 1, 0, 1, 0, 1],\n",
       "       [1, 0, 1, 0, 1, 0, 1, 0],\n",
       "       [0, 1, 0, 1, 0, 1, 0, 1],\n",
       "       [1, 0, 1, 0, 1, 0, 1, 0],\n",
       "       [0, 1, 0, 1, 0, 1, 0, 1]])"
      ]
     },
     "execution_count": 147,
     "metadata": {},
     "output_type": "execute_result"
    }
   ],
   "source": [
    "chess_field = np.zeros((8, 8), dtype = int)\n",
    "chess_field[::2, 0::2] = 1\n",
    "chess_field[1::2, 1::2] = 1\n",
    "chess_field"
   ]
  }
 ],
 "metadata": {
  "kernelspec": {
   "display_name": "Python 3",
   "language": "python",
   "name": "python3"
  },
  "language_info": {
   "codemirror_mode": {
    "name": "ipython",
    "version": 3
   },
   "file_extension": ".py",
   "mimetype": "text/x-python",
   "name": "python",
   "nbconvert_exporter": "python",
   "pygments_lexer": "ipython3",
   "version": "3.11.5"
  }
 },
 "nbformat": 4,
 "nbformat_minor": 4
}
