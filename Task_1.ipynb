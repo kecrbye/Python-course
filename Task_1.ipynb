{
 "cells": [
  {
   "cell_type": "markdown",
   "metadata": {},
   "source": [
    "# Самостоятельная работа 1. Введение"
   ]
  },
  {
   "cell_type": "markdown",
   "metadata": {},
   "source": [
    "Задание 1. Написать цикл для выведения на экран каждой буквы своего ФИО         "
   ]
  },
  {
   "cell_type": "code",
   "execution_count": 1,
   "metadata": {},
   "outputs": [
    {
     "name": "stdout",
     "output_type": "stream",
     "text": [
      "Л у с к и н\n",
      "Е г о р\n",
      "Е в г е н ь е в и ч\n"
     ]
    }
   ],
   "source": [
    "# 1\n",
    "name = 'Лускин Егор Евгеньевич'\n",
    "for word in name.split():\n",
    "    print(*word, end = '\\n', sep = ' ')"
   ]
  },
  {
   "cell_type": "markdown",
   "metadata": {},
   "source": [
    "Задание 2. Написать функцию для перевода рубля в йену c округлением до 2х знаков после запятой"
   ]
  },
  {
   "cell_type": "code",
   "execution_count": 2,
   "metadata": {},
   "outputs": [],
   "source": [
    "# 2\n",
    "import requests  \n",
    "def convert_rubl_to_yuan(value):\n",
    "    data = requests.get('https://www.cbr-xml-daily.ru/daily_json.js').json()\n",
    "    yuan_value = round(data['Valute']['JPY']['Value'] / 100, 2)\n",
    "    if yuan_value:\n",
    "        return round(value / float(yuan_value), 2)\n",
    "    return 'Check API! Yuan value must be not null!'"
   ]
  },
  {
   "cell_type": "code",
   "execution_count": 22,
   "metadata": {},
   "outputs": [
    {
     "data": {
      "text/plain": [
       "1515.15"
      ]
     },
     "execution_count": 22,
     "metadata": {},
     "output_type": "execute_result"
    }
   ],
   "source": [
    "convert_rubl_to_yuan(1000)"
   ]
  }
 ],
 "metadata": {
  "kernelspec": {
   "display_name": "Python 3",
   "language": "python",
   "name": "python3"
  },
  "language_info": {
   "codemirror_mode": {
    "name": "ipython",
    "version": 3
   },
   "file_extension": ".py",
   "mimetype": "text/x-python",
   "name": "python",
   "nbconvert_exporter": "python",
   "pygments_lexer": "ipython3",
   "version": "3.11.5"
  },
  "orig_nbformat": 4
 },
 "nbformat": 4,
 "nbformat_minor": 2
}
