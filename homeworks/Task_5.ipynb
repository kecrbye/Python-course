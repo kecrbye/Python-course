{
 "cells": [
  {
   "cell_type": "code",
   "execution_count": 1,
   "metadata": {},
   "outputs": [],
   "source": [
    "import pandas as pd\n",
    "import numpy as np\n",
    "import seaborn as sns"
   ]
  },
  {
   "cell_type": "markdown",
   "metadata": {},
   "source": [
    "**Задание 1**\n",
    "\n",
    "1. Загрузить, посмотреть, определить количество строк и объединить 3 датасета: marketing_campaign.csv, users.csv и subscribers.csv.\n",
    "2. Определить типы и статистики колонок.\n",
    "3. Определить эффективность маркетинговых каналов по привлечению платящих игроков.\n",
    "4. Определить количество игроков в каждой возрастной группе.\n",
    "5. Определить самую раннюю дату подписки на сервис.\n",
    "6. Определить портрет аудитории удержанных подписчиков (по возрасту и языку).\n",
    "7. Проверить гипотезу о том, в каком варианте теста (control/personalization) больше конверсия (converted) и значимо ли это отличие статистически."
   ]
  },
  {
   "cell_type": "code",
   "execution_count": 3,
   "metadata": {},
   "outputs": [],
   "source": [
    "# 1.1\n",
    "df_camp = pd.read_csv(r'data_for_lessons\\marketing_task\\marketing_campaign.csv')"
   ]
  },
  {
   "cell_type": "code",
   "execution_count": 8,
   "metadata": {},
   "outputs": [
    {
     "name": "stdout",
     "output_type": "stream",
     "text": [
      "<class 'pandas.core.frame.DataFrame'>\n",
      "RangeIndex: 10037 entries, 0 to 10036\n",
      "Data columns (total 6 columns):\n",
      " #   Column              Non-Null Count  Dtype \n",
      "---  ------              --------------  ----- \n",
      " 0   user_id             10037 non-null  object\n",
      " 1   date_served         10021 non-null  object\n",
      " 2   marketing_channel   10022 non-null  object\n",
      " 3   variant             10037 non-null  object\n",
      " 4   language_displayed  10037 non-null  object\n",
      " 5   converted           10022 non-null  object\n",
      "dtypes: object(6)\n",
      "memory usage: 470.6+ KB\n"
     ]
    },
    {
     "data": {
      "text/plain": [
       "(10037, 6)"
      ]
     },
     "execution_count": 8,
     "metadata": {},
     "output_type": "execute_result"
    }
   ],
   "source": [
    "df_camp.info()\n",
    "df_camp.shape\n",
    "# 10037 строк и 6 столбцов"
   ]
  },
  {
   "cell_type": "code",
   "execution_count": 4,
   "metadata": {},
   "outputs": [],
   "source": [
    "df_sub = pd.read_csv(r'data_for_lessons\\marketing_task\\subscribers.csv')"
   ]
  },
  {
   "cell_type": "code",
   "execution_count": 9,
   "metadata": {},
   "outputs": [
    {
     "name": "stdout",
     "output_type": "stream",
     "text": [
      "<class 'pandas.core.frame.DataFrame'>\n",
      "RangeIndex: 10037 entries, 0 to 10036\n",
      "Data columns (total 5 columns):\n",
      " #   Column               Non-Null Count  Dtype \n",
      "---  ------               --------------  ----- \n",
      " 0   user_id              10037 non-null  object\n",
      " 1   subscribing_channel  1856 non-null   object\n",
      " 2   date_subscribed      1856 non-null   object\n",
      " 3   date_canceled        577 non-null    object\n",
      " 4   is_retained          1856 non-null   object\n",
      "dtypes: object(5)\n",
      "memory usage: 392.2+ KB\n"
     ]
    },
    {
     "data": {
      "text/plain": [
       "(10037, 5)"
      ]
     },
     "execution_count": 9,
     "metadata": {},
     "output_type": "execute_result"
    }
   ],
   "source": [
    "df_sub.info()\n",
    "df_sub.shape\n",
    "# 10037 строк и 5 столбцов"
   ]
  },
  {
   "cell_type": "code",
   "execution_count": 10,
   "metadata": {},
   "outputs": [],
   "source": [
    "df_users = pd.read_csv(r'data_for_lessons\\marketing_task\\users.csv')"
   ]
  },
  {
   "cell_type": "code",
   "execution_count": 11,
   "metadata": {},
   "outputs": [
    {
     "name": "stdout",
     "output_type": "stream",
     "text": [
      "<class 'pandas.core.frame.DataFrame'>\n",
      "RangeIndex: 10037 entries, 0 to 10036\n",
      "Data columns (total 3 columns):\n",
      " #   Column              Non-Null Count  Dtype \n",
      "---  ------              --------------  ----- \n",
      " 0   user_id             10037 non-null  object\n",
      " 1   age_group           10037 non-null  object\n",
      " 2   language_preferred  10037 non-null  object\n",
      "dtypes: object(3)\n",
      "memory usage: 235.4+ KB\n"
     ]
    },
    {
     "data": {
      "text/plain": [
       "(10037, 3)"
      ]
     },
     "execution_count": 11,
     "metadata": {},
     "output_type": "execute_result"
    }
   ],
   "source": [
    "df_users.info()\n",
    "df_users.shape\n",
    "# 10037 строк и 3 столбца"
   ]
  },
  {
   "cell_type": "code",
   "execution_count": 12,
   "metadata": {},
   "outputs": [],
   "source": [
    "df_merged = df_camp.merge(df_sub.merge(df_users, how = 'inner', on = 'user_id'), \n",
    "            how = 'inner', \n",
    "            on = 'user_id')"
   ]
  },
  {
   "cell_type": "code",
   "execution_count": 18,
   "metadata": {},
   "outputs": [
    {
     "name": "stdout",
     "output_type": "stream",
     "text": [
      "<class 'pandas.core.frame.DataFrame'>\n",
      "RangeIndex: 10037 entries, 0 to 10036\n",
      "Data columns (total 12 columns):\n",
      " #   Column               Non-Null Count  Dtype \n",
      "---  ------               --------------  ----- \n",
      " 0   user_id              10037 non-null  object\n",
      " 1   date_served          10021 non-null  object\n",
      " 2   marketing_channel    10022 non-null  object\n",
      " 3   variant              10037 non-null  object\n",
      " 4   language_displayed   10037 non-null  object\n",
      " 5   converted            10022 non-null  object\n",
      " 6   subscribing_channel  1856 non-null   object\n",
      " 7   date_subscribed      1856 non-null   object\n",
      " 8   date_canceled        577 non-null    object\n",
      " 9   is_retained          1856 non-null   object\n",
      " 10  age_group            10037 non-null  object\n",
      " 11  language_preferred   10037 non-null  object\n",
      "dtypes: object(12)\n",
      "memory usage: 941.1+ KB\n"
     ]
    }
   ],
   "source": [
    "# 1.2\n",
    "df_merged.info()\n",
    "# Ответ: типы всех колонок - object, количество ненулевых значений видно ниже"
   ]
  },
  {
   "cell_type": "code",
   "execution_count": 25,
   "metadata": {},
   "outputs": [
    {
     "data": {
      "text/html": [
       "<div>\n",
       "<style scoped>\n",
       "    .dataframe tbody tr th:only-of-type {\n",
       "        vertical-align: middle;\n",
       "    }\n",
       "\n",
       "    .dataframe tbody tr th {\n",
       "        vertical-align: top;\n",
       "    }\n",
       "\n",
       "    .dataframe thead th {\n",
       "        text-align: right;\n",
       "    }\n",
       "</style>\n",
       "<table border=\"1\" class=\"dataframe\">\n",
       "  <thead>\n",
       "    <tr style=\"text-align: right;\">\n",
       "      <th></th>\n",
       "      <th>converted</th>\n",
       "    </tr>\n",
       "    <tr>\n",
       "      <th>marketing_channel</th>\n",
       "      <th></th>\n",
       "    </tr>\n",
       "  </thead>\n",
       "  <tbody>\n",
       "    <tr>\n",
       "      <th>Email</th>\n",
       "      <td>193</td>\n",
       "    </tr>\n",
       "    <tr>\n",
       "      <th>Facebook</th>\n",
       "      <td>237</td>\n",
       "    </tr>\n",
       "    <tr>\n",
       "      <th>House Ads</th>\n",
       "      <td>298</td>\n",
       "    </tr>\n",
       "    <tr>\n",
       "      <th>Instagram</th>\n",
       "      <td>265</td>\n",
       "    </tr>\n",
       "    <tr>\n",
       "      <th>Push</th>\n",
       "      <td>83</td>\n",
       "    </tr>\n",
       "  </tbody>\n",
       "</table>\n",
       "</div>"
      ],
      "text/plain": [
       "                  converted\n",
       "marketing_channel          \n",
       "Email                   193\n",
       "Facebook                237\n",
       "House Ads               298\n",
       "Instagram               265\n",
       "Push                     83"
      ]
     },
     "execution_count": 25,
     "metadata": {},
     "output_type": "execute_result"
    }
   ],
   "source": [
    "# 1.3\n",
    "df_merged.groupby('marketing_channel').agg({'converted':'sum'})\n",
    "# Ответ: видим, что самый эффективный канал - House Ads. Примерно наравне с ним каналы Facebook и Instagram"
   ]
  },
  {
   "cell_type": "code",
   "execution_count": 27,
   "metadata": {},
   "outputs": [
    {
     "data": {
      "text/html": [
       "<div>\n",
       "<style scoped>\n",
       "    .dataframe tbody tr th:only-of-type {\n",
       "        vertical-align: middle;\n",
       "    }\n",
       "\n",
       "    .dataframe tbody tr th {\n",
       "        vertical-align: top;\n",
       "    }\n",
       "\n",
       "    .dataframe thead th {\n",
       "        text-align: right;\n",
       "    }\n",
       "</style>\n",
       "<table border=\"1\" class=\"dataframe\">\n",
       "  <thead>\n",
       "    <tr style=\"text-align: right;\">\n",
       "      <th></th>\n",
       "      <th>user_id</th>\n",
       "    </tr>\n",
       "    <tr>\n",
       "      <th>age_group</th>\n",
       "      <th></th>\n",
       "    </tr>\n",
       "  </thead>\n",
       "  <tbody>\n",
       "    <tr>\n",
       "      <th>0-18 years</th>\n",
       "      <td>1539</td>\n",
       "    </tr>\n",
       "    <tr>\n",
       "      <th>19-24 years</th>\n",
       "      <td>1682</td>\n",
       "    </tr>\n",
       "    <tr>\n",
       "      <th>24-30 years</th>\n",
       "      <td>1568</td>\n",
       "    </tr>\n",
       "    <tr>\n",
       "      <th>30-36 years</th>\n",
       "      <td>1355</td>\n",
       "    </tr>\n",
       "    <tr>\n",
       "      <th>36-45 years</th>\n",
       "      <td>1353</td>\n",
       "    </tr>\n",
       "    <tr>\n",
       "      <th>45-55 years</th>\n",
       "      <td>1353</td>\n",
       "    </tr>\n",
       "    <tr>\n",
       "      <th>55+ years</th>\n",
       "      <td>1187</td>\n",
       "    </tr>\n",
       "  </tbody>\n",
       "</table>\n",
       "</div>"
      ],
      "text/plain": [
       "             user_id\n",
       "age_group           \n",
       "0-18 years      1539\n",
       "19-24 years     1682\n",
       "24-30 years     1568\n",
       "30-36 years     1355\n",
       "36-45 years     1353\n",
       "45-55 years     1353\n",
       "55+ years       1187"
      ]
     },
     "execution_count": 27,
     "metadata": {},
     "output_type": "execute_result"
    }
   ],
   "source": [
    "# 1.4\n",
    "df_merged.groupby('age_group').agg({'user_id':'count'})"
   ]
  },
  {
   "cell_type": "code",
   "execution_count": 33,
   "metadata": {},
   "outputs": [
    {
     "name": "stderr",
     "output_type": "stream",
     "text": [
      "C:\\Users\\iegor\\AppData\\Local\\Temp\\ipykernel_11904\\356636381.py:2: UserWarning: Could not infer format, so each element will be parsed individually, falling back to `dateutil`. To ensure parsing is consistent and as-expected, please specify a format.\n",
      "  pd.to_datetime(df_merged['date_subscribed']).min()\n"
     ]
    },
    {
     "data": {
      "text/plain": [
       "Timestamp('2018-01-01 00:00:00')"
      ]
     },
     "execution_count": 33,
     "metadata": {},
     "output_type": "execute_result"
    }
   ],
   "source": [
    "# 1.5\n",
    "pd.to_datetime(df_merged['date_subscribed']).min()\n",
    "# Ответ: 1 января 2018 года"
   ]
  },
  {
   "cell_type": "code",
   "execution_count": 39,
   "metadata": {},
   "outputs": [
    {
     "data": {
      "text/plain": [
       "age_group\n",
       "19-24 years    326\n",
       "24-30 years    273\n",
       "0-18 years     229\n",
       "30-36 years    122\n",
       "45-55 years    119\n",
       "36-45 years    115\n",
       "55+ years       95\n",
       "Name: count, dtype: int64"
      ]
     },
     "execution_count": 39,
     "metadata": {},
     "output_type": "execute_result"
    }
   ],
   "source": [
    "# 1.6\n",
    "df_retained = df_merged.query(\"is_retained == True\")\n",
    "df_retained['age_group'].value_counts()\n",
    "# По распределению возрастных групп видим, что преобладают более молодые люди 0 - 30 лет\n",
    "# Среди них преобладает группа людей возрастом от 19 до 24 лет "
   ]
  },
  {
   "cell_type": "code",
   "execution_count": 41,
   "metadata": {},
   "outputs": [
    {
     "data": {
      "text/plain": [
       "language_preferred\n",
       "English    1179\n",
       "German       44\n",
       "Spanish      44\n",
       "Arabic       12\n",
       "Name: count, dtype: int64"
      ]
     },
     "execution_count": 41,
     "metadata": {},
     "output_type": "execute_result"
    }
   ],
   "source": [
    "df_retained['language_preferred'].value_counts()\n",
    "# Аудитория в подавляющем большинстве англоговорящая\n",
    "\n",
    "# Ответ: итого аудитория удержанных подписчиков представляет собой англоговорящих людей\n",
    "# возрастом преимущественно от 0 до 30 лет"
   ]
  },
  {
   "cell_type": "code",
   "execution_count": 43,
   "metadata": {},
   "outputs": [
    {
     "data": {
      "text/html": [
       "<div>\n",
       "<style scoped>\n",
       "    .dataframe tbody tr th:only-of-type {\n",
       "        vertical-align: middle;\n",
       "    }\n",
       "\n",
       "    .dataframe tbody tr th {\n",
       "        vertical-align: top;\n",
       "    }\n",
       "\n",
       "    .dataframe thead th {\n",
       "        text-align: right;\n",
       "    }\n",
       "</style>\n",
       "<table border=\"1\" class=\"dataframe\">\n",
       "  <thead>\n",
       "    <tr style=\"text-align: right;\">\n",
       "      <th></th>\n",
       "      <th>converted</th>\n",
       "    </tr>\n",
       "    <tr>\n",
       "      <th>variant</th>\n",
       "      <th></th>\n",
       "    </tr>\n",
       "  </thead>\n",
       "  <tbody>\n",
       "    <tr>\n",
       "      <th>control</th>\n",
       "      <td>371</td>\n",
       "    </tr>\n",
       "    <tr>\n",
       "      <th>personalization</th>\n",
       "      <td>705</td>\n",
       "    </tr>\n",
       "  </tbody>\n",
       "</table>\n",
       "</div>"
      ],
      "text/plain": [
       "                converted\n",
       "variant                  \n",
       "control               371\n",
       "personalization       705"
      ]
     },
     "execution_count": 43,
     "metadata": {},
     "output_type": "execute_result"
    }
   ],
   "source": [
    "# 1.7 \n",
    "df_merged.groupby('variant').agg({'converted':'sum'})\n",
    "# Ответ: конверсия больше в варианте теста personalization практически в два раза\n",
    "# Статистически значимо"
   ]
  },
  {
   "cell_type": "markdown",
   "metadata": {},
   "source": [
    "**Задание 2**\n",
    "\n",
    "Цех может производить стулья и столы. На производство стула идет 5 единиц материала, на производство стола - 20 единиц (футов красного дерева). Стул требует 10 человеко-часов, стол - 15. Имеется 400 единиц материала и 450 человеко-часов. Прибыль при производстве стула - 45 долларов США, при производстве стола - 80 долларов США. Сколько надо сделать стульев и столов, чтобы получить максимальную прибыль?"
   ]
  },
  {
   "cell_type": "code",
   "execution_count": 44,
   "metadata": {},
   "outputs": [
    {
     "name": "stdout",
     "output_type": "stream",
     "text": [
      "Количество стульев: 24\n",
      "Количество столов: 14\n"
     ]
    }
   ],
   "source": [
    "from scipy.optimize import linprog\n",
    "\n",
    "c = [-45, -80]  # прибыли для стула и стола\n",
    "A = [[5, 20], [10, 15]]  # материалы и человеко-часы\n",
    "b = [400, 450]  # общие ресурсы\n",
    "\n",
    "res = linprog(c, A_ub = A, b_ub = b, method = 'highs')\n",
    "\n",
    "print(\"Количество стульев:\", round(res.x[0]))\n",
    "print(\"Количество столов:\", round(res.x[1]))"
   ]
  },
  {
   "cell_type": "markdown",
   "metadata": {},
   "source": [
    "**Задание 3**\n",
    "\n",
    "Средний накопленный доход на пользователя с сайта (cumulative ARPU) составил: day1 0.4$, day3 0.6$, day7 0.8$, day14 1.10$ , day21 1.30$, day30 1.40$. Подберите аппроксимирующую кривую и сделайте прогноз, сколько в среднем принесет денег пользователь на 90й день. Обоснуйте выбор одной из аппроксимирующей кривой вида: y = ab^x или y = aln(x) + b."
   ]
  },
  {
   "cell_type": "code",
   "execution_count": 46,
   "metadata": {},
   "outputs": [
    {
     "name": "stdout",
     "output_type": "stream",
     "text": [
      "Прогноз среднего накопленного дохода на 90-й день: 9.87 $\n"
     ]
    }
   ],
   "source": [
    "from scipy.optimize import curve_fit\n",
    "\n",
    "days = np.array([1, 3, 7, 14, 21, 30])\n",
    "arpu = np.array([0.4, 0.6, 0.8, 1.10, 1.30, 1.40])\n",
    "# Функция для аппроксимации: a*b^x\n",
    "def func(x, a, b):\n",
    "    return a * np.power(b, x)\n",
    "# Подгонка кривой\n",
    "params, params_covariance = curve_fit(func, days, arpu)\n",
    "\n",
    "a = params[0]\n",
    "b = params[1]\n",
    "# Прогноз для 90-го дня\n",
    "day_90 = 90\n",
    "arpu_90 = func(day_90, a, b)\n",
    "print(\"Прогноз среднего накопленного дохода на 90-й день:\", round(arpu_90, 2), \"$\")"
   ]
  }
 ],
 "metadata": {
  "kernelspec": {
   "display_name": "Python 3",
   "language": "python",
   "name": "python3"
  },
  "language_info": {
   "codemirror_mode": {
    "name": "ipython",
    "version": 3
   },
   "file_extension": ".py",
   "mimetype": "text/x-python",
   "name": "python",
   "nbconvert_exporter": "python",
   "pygments_lexer": "ipython3",
   "version": "3.11.7"
  }
 },
 "nbformat": 4,
 "nbformat_minor": 2
}
